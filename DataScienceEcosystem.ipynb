{
 "cells": [
  {
   "cell_type": "markdown",
   "id": "f30455f7-996c-4f41-b090-23151a98ae37",
   "metadata": {},
   "source": [
    "# Data Science Tools and Ecosystem"
   ]
  },
  {
   "cell_type": "markdown",
   "id": "fc5cc09f-2947-4058-bd7e-15613f59c0df",
   "metadata": {},
   "source": [
    "In this notebook, Data Science Tools and Ecosystem are summarized."
   ]
  },
  {
   "cell_type": "markdown",
   "id": "a2618a3e-fdbf-4048-98c5-f8caea832fb8",
   "metadata": {},
   "source": [
    "**Objectives:**\n",
    "- Use Jupyter Notebooks\n",
    "- Use GitHub\n",
    "- Use Markdown to provide documentation"
   ]
  },
  {
   "cell_type": "markdown",
   "id": "30fff68b-cfbf-43ef-81e4-4097b2415c02",
   "metadata": {},
   "source": [
    "Some of the popular languages that Data Scientists use are:\n",
    "1. Python\n",
    "2. R\n",
    "3. Scala"
   ]
  },
  {
   "cell_type": "markdown",
   "id": "1aa2b3db-7b04-4c89-8c78-2b05be4e51f4",
   "metadata": {},
   "source": [
    "Some of the commonly used libraries used by Data Scientists include:\n",
    "1. Pandas\n",
    "2. NumPy\n",
    "3. MatPlotLib"
   ]
  },
  {
   "cell_type": "markdown",
   "id": "a4e67c5b-9800-4947-bf2a-3ea899e60e43",
   "metadata": {},
   "source": [
    "|Data Science Tools | \n",
    "| ------ |\n",
    "|Jupyter Notebook|\n",
    "|VS Code|\n",
    "|RStudio|"
   ]
  },
  {
   "cell_type": "markdown",
   "id": "87ee3d3a-225d-401e-8338-c6812dc95731",
   "metadata": {},
   "source": [
    "### Below are a few examples of evaluating arithmetic expressions in Python"
   ]
  },
  {
   "cell_type": "code",
   "execution_count": 6,
   "id": "c83037b9-46fa-47e5-866e-acc9906c38b8",
   "metadata": {},
   "outputs": [
    {
     "data": {
      "text/plain": [
       "17"
      ]
     },
     "execution_count": 6,
     "metadata": {},
     "output_type": "execute_result"
    }
   ],
   "source": [
    "# This a simple arithmetic expression to mutiply then add integers\n",
    "(3*4)+5"
   ]
  },
  {
   "cell_type": "code",
   "execution_count": 13,
   "id": "de52d07c-9c25-4c69-973b-90e32b95560f",
   "metadata": {},
   "outputs": [
    {
     "name": "stdout",
     "output_type": "stream",
     "text": [
      "3.3333333333333335\n"
     ]
    }
   ],
   "source": [
    "# This will convert 200 minutes to hours by diving by 60\n",
    "mins=200\n",
    "hours=mins/60\n",
    "print(hours)"
   ]
  },
  {
   "cell_type": "markdown",
   "id": "0cf5b8db-5e0e-474c-93b0-6fa3055053d3",
   "metadata": {},
   "source": [
    "## Author\n",
    "Breandan Hill"
   ]
  }
 ],
 "metadata": {
  "kernelspec": {
   "display_name": "Python 3 (ipykernel)",
   "language": "python",
   "name": "python3"
  },
  "language_info": {
   "codemirror_mode": {
    "name": "ipython",
    "version": 3
   },
   "file_extension": ".py",
   "mimetype": "text/x-python",
   "name": "python",
   "nbconvert_exporter": "python",
   "pygments_lexer": "ipython3",
   "version": "3.12.8"
  }
 },
 "nbformat": 4,
 "nbformat_minor": 5
}
